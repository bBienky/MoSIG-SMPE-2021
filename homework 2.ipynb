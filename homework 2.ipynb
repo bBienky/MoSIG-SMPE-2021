{
 "cells": [
  {
   "cell_type": "code",
   "execution_count": 1,
   "metadata": {
    "scrolled": true
   },
   "outputs": [],
   "source": [
    "import pandas as pd\n",
    "import matplotlib.pyplot as plt\n",
    "from math import log"
   ]
  },
  {
   "cell_type": "markdown",
   "metadata": {},
   "source": [
    "## Homework 1\n",
    "This document present a visualization task that has been given during the Scientific methodology and Experiment Evaluation course of the MoSIG program\n",
    "The dataset has been provided in a pdf file so we recover it manualy and constitute the following dictionary,\n",
    "The keys are the feet size and the value for each key are the list od error commited by students for the given feet size"
   ]
  },
  {
   "cell_type": "code",
   "execution_count": 2,
   "metadata": {},
   "outputs": [],
   "source": [
    "l = {17.5: [15, 18, 19, 20], 18: [16, 17, 18, 19], 18.5: [14, 16, 17],\n",
    "     19: [15, 16], 20: [13, 14, 15], 20.5: [12, 13, 14], 21: [10, 11, 13, 15],\n",
    "     21.5: [10, 12, 13], 22: [8, 10, 11, 12], 23: [8, 9, 10], 23.5: [7, 8, 9, 11],\n",
    "     24: [6, 8, 9], 24.5: [6, 7, 8, 10], 25: [4, 6, 7, 8], 25.5: [5, 6], 26: [4, 5, 7],\n",
    "     26.5: [3, 4, 5], 27: [2, 3, 4, 7], 27.5: [2, 3], 28: [0, 1, 2, 4], 28.5: [0, 2], 29: [0, 1, 2]}\n"
   ]
  },
  {
   "cell_type": "code",
   "execution_count": 3,
   "metadata": {},
   "outputs": [
    {
     "data": {
      "text/plain": [
       "dict_keys([17.5, 18, 18.5, 19, 20, 20.5, 21, 21.5, 22, 23, 23.5, 24, 24.5, 25, 25.5, 26, 26.5, 27, 27.5, 28, 28.5, 29])"
      ]
     },
     "execution_count": 3,
     "metadata": {},
     "output_type": "execute_result"
    }
   ],
   "source": [
    "l.keys()"
   ]
  },
  {
   "cell_type": "code",
   "execution_count": 4,
   "metadata": {},
   "outputs": [],
   "source": [
    "number_results = []\n",
    "for feet_size in l.keys():\n",
    "    number_results.append(len(l[feet_size]))"
   ]
  },
  {
   "cell_type": "code",
   "execution_count": 5,
   "metadata": {},
   "outputs": [
    {
     "data": {
      "text/plain": [
       "[4, 4, 3, 2, 3, 3, 4, 3, 4, 3, 4, 3, 4, 4, 2, 3, 3, 4, 2, 4, 2, 3]"
      ]
     },
     "execution_count": 5,
     "metadata": {},
     "output_type": "execute_result"
    }
   ],
   "source": [
    "number_results"
   ]
  },
  {
   "cell_type": "markdown",
   "metadata": {},
   "source": [
    "We see with this list that we don't have the same number of elements obtained for each feet size so we think that data are not too much representative  to compute the mean error per feet size because feet size are not uniformly distributed ((we have feet size that just have 2 elements that means we just have 2 students with this feet size in the school)\n",
    "We propose the following approach to make a graph\n",
    "<ol>\n",
    "  <li>We sum the elements of number_results list to have the number of students of this elementary school</li>  \n",
    "  <li>For each feet size we compute the total number of error </li>\n",
    "  <li>For each feet size we compute the total number of error by sum all the elements associated to this feet size</li>\n",
    "  <li>For each feet size $f_i$ we compute the following element $x_i$ :\n",
    "      <br>\n",
    "      Let $n$ be the total number of students, $n_i$ the total number of students with feet size $f_i$ and $E_i$ the total number of error associated to the feet size $f_i$\n",
    "      $$x_i = \\frac{n_i*E_i}{n}$$</li>\n",
    "    <li> We make a bar chart after normalizing  the serie $x = (x_1, x_2, ...., x_n)$ and the x_axis is the feet size</li>\n",
    "</ol>\n"
   ]
  },
  {
   "cell_type": "code",
   "execution_count": 6,
   "metadata": {},
   "outputs": [],
   "source": [
    "x = [(len(l[key])*sum(l[key]))/sum(number_results) for key in l.keys()]\n",
    "x = [a/sum(x) for a in x]"
   ]
  },
  {
   "cell_type": "code",
   "execution_count": 8,
   "metadata": {},
   "outputs": [
    {
     "data": {
      "text/plain": [
       "Text(0,0.5,'x_i compute for  each feet size')"
      ]
     },
     "execution_count": 8,
     "metadata": {},
     "output_type": "execute_result"
    },
    {
     "data": {
      "image/png": "[encoded data removed]",
      "text/plain": [
       "<Figure size 504x360 with 1 Axes>"
      ]
     },
     "metadata": {
      "needs_background": "light"
     },
     "output_type": "display_data"
    }
   ],
   "source": [
    "plt.figure(figsize=(7,5))\n",
    "plt.scatter(l.keys(), x)\n",
    "plt.xlabel(\"Feet size\")\n",
    "plt.ylabel(\"x_i compute for  each feet size\")"
   ]
  },
  {
   "cell_type": "code",
   "execution_count": 9,
   "metadata": {},
   "outputs": [],
   "source": [
    "#We try without the term n\n",
    "x = [(len(l[key])*sum(l[key])) for key in l.keys()]\n",
    "x = [a/sum(x) for a in x]"
   ]
  },
  {
   "cell_type": "markdown",
   "metadata": {},
   "source": [
    "We saw with this plot that there are not correlation between the two variables but the number of error decrease according the feet size"
   ]
  }
 ],
 "metadata": {
  "kernelspec": {
   "display_name": "Python 3",
   "language": "python",
   "name": "python3"
  },
  "language_info": {
   "codemirror_mode": {
    "name": "ipython",
    "version": 3
   },
   "file_extension": ".py",
   "mimetype": "text/x-python",
   "name": "python",
   "nbconvert_exporter": "python",
   "pygments_lexer": "ipython3",
   "version": "3.7.0"
  }
 },
 "nbformat": 4,
 "nbformat_minor": 2
}
